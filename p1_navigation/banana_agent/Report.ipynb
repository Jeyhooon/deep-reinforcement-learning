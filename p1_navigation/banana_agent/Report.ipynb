{
 "cells": [
  {
   "cell_type": "markdown",
   "metadata": {
    "pycharm": {
     "name": "#%% md\n"
    }
   },
   "source": [
    "# Banana Lover (Navigation)\n",
    "This notebook describes the implementation of a DQN agent to solve `Navigation` task.\n",
    "All the modules required for solving this task is inside `scripts/agent.py` and consist of three main components (classes):\n",
    "\n",
    "- **Replaybuffer**\n",
    "- **QNetwork**\n",
    "- **Agent**\n",
    "\n",
    "### Replaybuffer\n",
    "This module serves as a limited memory to store (using `add()` method) the latest experiences tuple of\n",
    "`(state, action, reward, next_state, done)` that agent can randomly sample a batch of it for training (using the `sample()` method).\n",
    "\n",
    "First importing some required libraries:"
   ]
  },
  {
   "cell_type": "code",
   "execution_count": 1,
   "metadata": {
    "collapsed": false,
    "jupyter": {
     "outputs_hidden": false
    },
    "pycharm": {
     "name": "#%%\n"
    }
   },
   "outputs": [],
   "source": [
    "import torch\n",
    "import torch.nn as nn\n",
    "import torch.nn.functional as F\n",
    "import torch.optim as optim\n",
    "import numpy as np\n",
    "import random\n",
    "from collections import namedtuple, deque"
   ]
  },
  {
   "cell_type": "code",
   "execution_count": 2,
   "metadata": {
    "collapsed": false,
    "jupyter": {
     "outputs_hidden": false
    },
    "pycharm": {
     "name": "#%%\n"
    }
   },
   "outputs": [],
   "source": [
    "class ReplayBuffer:\n",
    "    \"\"\"Fixed-size buffer to store experience tuples.\"\"\"\n",
    "\n",
    "    def __init__(self, action_size, buffer_size, batch_size, seed, device):\n",
    "        \"\"\"Initialize a ReplayBuffer object.\n",
    "\n",
    "        Params\n",
    "        ======\n",
    "            action_size (int): dimension of each action\n",
    "            buffer_size (int): maximum size of buffer\n",
    "            batch_size (int): size of each training batch\n",
    "            seed (int): random seed\n",
    "        \"\"\"\n",
    "        self.action_size = action_size\n",
    "        self.memory = deque(maxlen=buffer_size)\n",
    "        self.batch_size = batch_size\n",
    "        self.experience = namedtuple(\"Experience\", field_names=[\"state\", \"action\", \"reward\", \"next_state\", \"done\"])\n",
    "        self.seed = seed\n",
    "        self.device = device\n",
    "        random.seed(seed)\n",
    "\n",
    "    def add(self, state, action, reward, next_state, done):\n",
    "        \"\"\"Add a new experience to memory.\"\"\"\n",
    "        e = self.experience(state, action, reward, next_state, done)\n",
    "        self.memory.append(e)\n",
    "\n",
    "    def sample(self):\n",
    "        \"\"\"Randomly sample a batch of experiences from memory.\"\"\"\n",
    "        experiences = random.sample(self.memory, k=self.batch_size)\n",
    "\n",
    "        states = torch.from_numpy(np.vstack([e.state for e in experiences if e is not None])).float().to(self.device)\n",
    "        actions = torch.from_numpy(np.vstack([e.action for e in experiences if e is not None])).long().to(self.device)\n",
    "        rewards = torch.from_numpy(np.vstack([e.reward for e in experiences if e is not None])).float().to(self.device)\n",
    "        next_states = torch.from_numpy(np.vstack([e.next_state for e in experiences if e is not None])).float().to(self.device)\n",
    "        dones = torch.from_numpy(np.vstack([e.done for e in experiences if e is not None]).astype(np.uint8)).float().to(self.device)\n",
    "\n",
    "        return (states, actions, rewards, next_states, dones)\n",
    "\n",
    "    def __len__(self):\n",
    "        \"\"\"Return the current size of internal memory.\"\"\"\n",
    "        return len(self.memory)"
   ]
  },
  {
   "cell_type": "markdown",
   "metadata": {
    "pycharm": {
     "name": "#%% md\n"
    }
   },
   "source": [
    "`buffer_size`, `batch_size` and `seed` are the hyperparameters alongside the others and all are stored in config dictionary inside `main.py` script:"
   ]
  },
  {
   "cell_type": "code",
   "execution_count": 3,
   "metadata": {
    "collapsed": false,
    "jupyter": {
     "outputs_hidden": false
    },
    "pycharm": {
     "name": "#%%\n"
    }
   },
   "outputs": [],
   "source": [
    "config = {\n",
    "    \"BUFFER_SIZE\": int(1e5),        # replay buffer size\n",
    "    \"BATCH_SIZE\": 64,               # minibatch size\n",
    "    \"GAMMA\": 0.99,                  # discount factor\n",
    "    \"TAU\": 1e-3,                    # for soft update of target parameters\n",
    "    \"LR\": 5e-4,                     # learning rate\n",
    "    \"UPDATE_EVERY\": 4,              # how often to update the network\n",
    "    \"SEED\": 10,\n",
    "    \"N_EPISODS\": 2000,              # Number of episodes to train\n",
    "    \"EPS_START\": 1.0,               # Epsilon starting value\n",
    "    \"EPS_END\": 0.01,                # Minimum epsilon value\n",
    "    \"EPS_DECAY\": 0.995,             # Epsilon decay rate\n",
    "    \"Q_NET_Hidden_Dims\": (64, 64)   # Size of the hidden layer in Q-Net\n",
    "}"
   ]
  },
  {
   "cell_type": "markdown",
   "metadata": {
    "pycharm": {
     "name": "#%% md\n"
    }
   },
   "source": [
    "### QNetwork\n",
    "In DQN, Deep Neural Network is used to learn the Q-Values for all possible states. Here it is implemented as a simple\n",
    "dense network with two hidden layers with `ReLu` nonlinearity and a linear output layer (since it's a regression task).\n",
    "\n",
    "This architecture is used for both the value-network and target-network."
   ]
  },
  {
   "cell_type": "code",
   "execution_count": 4,
   "metadata": {
    "collapsed": false,
    "jupyter": {
     "outputs_hidden": false
    },
    "pycharm": {
     "name": "#%%\n"
    }
   },
   "outputs": [],
   "source": [
    "class QNetwork(nn.Module):\n",
    "    \"\"\"Actor (Policy) Model.\"\"\"\n",
    "\n",
    "    def __init__(self, state_size, action_size, seed, hidden_dims=(64, 64)):\n",
    "        \"\"\"Initialize parameters and build model.\n",
    "        Params\n",
    "        ======\n",
    "            state_size (int): Dimension of each state\n",
    "            action_size (int): Dimension of each action\n",
    "            seed (int): Random seed\n",
    "        \"\"\"\n",
    "        super(QNetwork, self).__init__()\n",
    "        self.seed = torch.manual_seed(seed)\n",
    "\n",
    "        \"*** YOUR CODE HERE ***\"\n",
    "        self.h_layers = nn.ModuleList()\n",
    "        last_dim = hidden_dims[0]\n",
    "\n",
    "        self.input_layer = nn.Linear(state_size, last_dim)\n",
    "\n",
    "        for h_dim in hidden_dims[1:]:\n",
    "            self.h_layers.append(nn.Linear(last_dim, h_dim))\n",
    "            last_dim = h_dim\n",
    "        self.output_layer = nn.Linear(last_dim, action_size)\n",
    "\n",
    "    def forward(self, state):\n",
    "        \"\"\"Build a network that maps state -> action values.\"\"\"\n",
    "\n",
    "        x = F.relu(self.input_layer(state))\n",
    "        for h_layer in self.h_layers:\n",
    "            x = F.relu(h_layer(x))\n",
    "\n",
    "        return self.output_layer(x)"
   ]
  },
  {
   "cell_type": "markdown",
   "metadata": {
    "pycharm": {
     "name": "#%% md\n"
    }
   },
   "source": [
    "### Agent\n",
    "This class uses the two modules before and contains the code to interact with the environment (using `act()` method to select\n",
    " an action given the state and using`step()` method to execute it in the environment),\n",
    "collect experiences (using the `memory` module), and perform learning on the collected data (using the `learn()` method)."
   ]
  },
  {
   "cell_type": "code",
   "execution_count": 5,
   "metadata": {
    "collapsed": false,
    "jupyter": {
     "outputs_hidden": false
    },
    "pycharm": {
     "name": "#%%\n"
    }
   },
   "outputs": [],
   "source": [
    "class Agent:\n",
    "    \"\"\"Interacts with and learns from the environment.\"\"\"\n",
    "\n",
    "    def __init__(self, state_size, action_size, device, config):\n",
    "        \"\"\"Initialize an Agent object.\n",
    "\n",
    "        Params\n",
    "        ======\n",
    "            state_size (int): dimension of each state\n",
    "            action_size (int): dimension of each action\n",
    "            seed (int): random seed\n",
    "        \"\"\"\n",
    "        self.state_size = state_size\n",
    "        self.action_size = action_size\n",
    "        self.device = device\n",
    "        self.config = config\n",
    "        self.seed = config[\"SEED\"]\n",
    "        random.seed(self.seed)\n",
    "\n",
    "        # Q-Network\n",
    "        self.qnetwork_local = QNetwork(state_size, action_size, self.seed, self.config[\"Q_NET_Hidden_Dims\"]).to(self.device)\n",
    "        self.qnetwork_target = QNetwork(state_size, action_size, self.seed, self.config[\"Q_NET_Hidden_Dims\"]).to(self.device)\n",
    "        self.optimizer = optim.Adam(self.qnetwork_local.parameters(), lr=self.config[\"LR\"])\n",
    "\n",
    "        # Replay memory\n",
    "        self.memory = ReplayBuffer(action_size, self.config[\"BUFFER_SIZE\"], self.config[\"BATCH_SIZE\"], self.seed, device=self.device)\n",
    "        # Initialize time step (for updating every UPDATE_EVERY steps)\n",
    "        self.t_step = 0\n",
    "\n",
    "    def step(self, state, action, reward, next_state, done):\n",
    "        # Save experience in replay memory\n",
    "        self.memory.add(state, action, reward, next_state, done)\n",
    "\n",
    "        # Learn every UPDATE_EVERY time steps.\n",
    "        self.t_step = (self.t_step + 1) % self.config[\"UPDATE_EVERY\"]\n",
    "        if self.t_step == 0:\n",
    "            # If enough samples are available in memory, get random subset and learn\n",
    "            if len(self.memory) > self.config[\"BATCH_SIZE\"]:\n",
    "                experiences = self.memory.sample()\n",
    "                self.learn(experiences, self.config[\"GAMMA\"])\n",
    "\n",
    "    def act(self, state, eps=0.):\n",
    "        \"\"\"Returns actions for given state as per current policy.\n",
    "\n",
    "        Params\n",
    "        ======\n",
    "            state (array_like): current state\n",
    "            eps (float): epsilon, for epsilon-greedy action selection\n",
    "        \"\"\"\n",
    "        state = torch.from_numpy(state).float().unsqueeze(0).to(self.device)\n",
    "        self.qnetwork_local.eval()\n",
    "        with torch.no_grad():\n",
    "            action_values = self.qnetwork_local(state)\n",
    "        self.qnetwork_local.train()\n",
    "\n",
    "        # Epsilon-greedy action selection\n",
    "        if random.random() > eps:\n",
    "            return np.argmax(action_values.cpu().data.numpy())\n",
    "        else:\n",
    "            return random.choice(np.arange(self.action_size))\n",
    "\n",
    "    def learn(self, experiences, gamma):\n",
    "        \"\"\"Update value parameters using given batch of experience tuples.\n",
    "\n",
    "        Params\n",
    "        ======\n",
    "            experiences (Tuple[torch.Tensor]): tuple of (s, a, r, s', done) tuples\n",
    "            gamma (float): discount factor\n",
    "        \"\"\"\n",
    "        states, actions, rewards, next_states, dones = experiences\n",
    "\n",
    "        ## TODO: compute and minimize the loss\n",
    "        \"*** YOUR CODE HERE ***\"\n",
    "\n",
    "        # DQN-Target\n",
    "        next_max_value = self.qnetwork_target(next_states).detach().max(1)[0].unsqueeze(1)\n",
    "\n",
    "        target_q = rewards + gamma * next_max_value * (1 - dones)\n",
    "        expected_q = self.qnetwork_local(states).gather(1, actions)\n",
    "\n",
    "        # Compute loss\n",
    "        loss = F.mse_loss(expected_q, target_q)\n",
    "        # Minimize the loss\n",
    "        self.optimizer.zero_grad()\n",
    "        loss.backward()\n",
    "        self.optimizer.step()\n",
    "\n",
    "        # ------------------- update target network ------------------- #\n",
    "        self.soft_update(self.qnetwork_local, self.qnetwork_target, self.config[\"TAU\"])\n",
    "\n",
    "    def soft_update(self, local_model, target_model, tau):\n",
    "        \"\"\"Soft update model parameters.\n",
    "        θ_target = τ*θ_local + (1 - τ)*θ_target\n",
    "\n",
    "        Params\n",
    "        ======\n",
    "            local_model (PyTorch model): weights will be copied from\n",
    "            target_model (PyTorch model): weights will be copied to\n",
    "            tau (float): interpolation parameter\n",
    "        \"\"\"\n",
    "        for target_param, local_param in zip(target_model.parameters(), local_model.parameters()):\n",
    "            target_param.data.copy_(tau * local_param.data + (1.0 - tau) * target_param.data)"
   ]
  },
  {
   "cell_type": "markdown",
   "metadata": {
    "pycharm": {
     "name": "#%% md\n"
    }
   },
   "source": [
    "### main.py\n",
    "This is the main scripts that used for running the experiments; the `agent` module together with the `environment` is used\n",
    "to train the agent (using the `train()` method) and to keep track of its learning behavior."
   ]
  },
  {
   "cell_type": "code",
   "execution_count": 6,
   "metadata": {
    "collapsed": false,
    "jupyter": {
     "outputs_hidden": false
    },
    "pycharm": {
     "name": "#%%\n"
    }
   },
   "outputs": [],
   "source": [
    "def train(_env, _agent, _brain_name):\n",
    "\n",
    "    # watch an untrained agent\n",
    "    env_info = _env.reset(train_mode=False)[_brain_name]\n",
    "    state = env_info.vector_observations[0]\n",
    "    score = 0  # initialize the score\n",
    "    for _ in range(50):\n",
    "        action = _agent.act(state)  # select an action\n",
    "        env_info = _env.step(action)[_brain_name]  # send the action to the environment\n",
    "        next_state = env_info.vector_observations[0]  # get the next state\n",
    "        reward = env_info.rewards[0]  # get the reward\n",
    "        done = env_info.local_done[0]  # see if episode has finished\n",
    "        score += reward  # update the score\n",
    "        state = next_state  # roll over the state to next time step\n",
    "        if done:  # exit loop if episode finished\n",
    "            break\n",
    "    print(\"UnTrained Agent's Score: {}\".format(score))\n",
    "\n",
    "\n",
    "    scores = []  # list containing scores from each episode\n",
    "    scores_window = deque(maxlen=100)  # last 100 scores\n",
    "    eps = config[\"EPS_START\"]  # initialize epsilon\n",
    "\n",
    "    for i_episode in range(1, config[\"N_EPISODS\"] + 1):\n",
    "\n",
    "        env_info = _env.reset(train_mode=True)[_brain_name]\n",
    "        state = env_info.vector_observations[0]\n",
    "        score = 0\n",
    "\n",
    "        while True:\n",
    "            action = _agent.act(state, eps)\n",
    "\n",
    "            env_info = _env.step(action)[_brain_name]\n",
    "            next_state = env_info.vector_observations[0]\n",
    "            reward = env_info.rewards[0]\n",
    "            done = env_info.local_done[0]\n",
    "\n",
    "            _agent.step(state, action, reward, next_state, done)\n",
    "\n",
    "            state = next_state\n",
    "            score += reward\n",
    "            if done:\n",
    "                break\n",
    "\n",
    "        scores_window.append(score)  # save most recent score\n",
    "        scores.append(score)  # save most recent score\n",
    "        eps = max(config[\"EPS_END\"], config[\"EPS_DECAY\"] * eps)  # decrease epsilon\n",
    "        print('\\rEpisode {}\\tAverage Score: {:.2f}'.format(i_episode, np.mean(scores_window)), end=\"\")\n",
    "        if i_episode % 100 == 0:\n",
    "            print('\\rEpisode {}\\tAverage Score: {:.2f}'.format(i_episode, np.mean(scores_window)))\n",
    "        if np.mean(scores_window) >= 13:\n",
    "            print('\\nEnvironment solved in {:d} episodes!\\tAverage Score: {:.2f}'.format(i_episode,\n",
    "                                                                                         np.mean(scores_window)))\n",
    "            torch.save(_agent.qnetwork_local.state_dict(), 'results/checkpoint.pth')\n",
    "            break\n",
    "\n",
    "    return scores, _agent"
   ]
  },
  {
   "cell_type": "markdown",
   "metadata": {
    "pycharm": {
     "name": "#%% md\n"
    }
   },
   "source": [
    "### Let's Train the Agent!\n",
    "Run `python main.py --is-training True` in the terminal:"
   ]
  },
  {
   "cell_type": "markdown",
   "metadata": {
    "pycharm": {
     "name": "#%% md\n"
    }
   },
   "source": [
    "Number of agents: 1\n",
    "\n",
    "Number of actions: 4\n",
    "\n",
    "States look like: [0.         1.         0.         0.         0.19246322 0.\n",
    " 1.         0.         0.         0.39209977 0.         0.\n",
    " 0.         1.         0.         0.         1.         0.\n",
    " 0.         0.19775437 0.         0.         1.         0.\n",
    " 0.86202884 0.         1.         0.         0.         0.25187665\n",
    " 0.         0.         0.         1.         0.         0.\n",
    " 0.        ]\n",
    "\n",
    "States have length: 37\n",
    "\n",
    "UnTrained Agent's Score: 0.0\n",
    "\n",
    "Episode 100\tAverage Score: 0.55\n",
    "\n",
    "Episode 200\tAverage Score: 4.66\n",
    "\n",
    "Episode 300\tAverage Score: 8.34\n",
    "\n",
    "Episode 400\tAverage Score: 10.63\n",
    "\n",
    "Episode 500\tAverage Score: 12.31\n",
    "\n",
    "Episode 548\tAverage Score: 13.00\n",
    "\n",
    "Environment solved in 548 episodes!\tAverage Score: 13.00\n",
    "\n",
    "Trained Agent's Score: 17.0"
   ]
  },
  {
   "cell_type": "markdown",
   "metadata": {},
   "source": [
    "**The agent was able to solve the task in 448 episodes!**"
   ]
  },
  {
   "cell_type": "markdown",
   "metadata": {
    "pycharm": {
     "name": "#%% md\n"
    }
   },
   "source": [
    "### Results\n",
    "Results are stored at results folder which consist of `checkpoint.pth` (this contains the weights and parameters of the trained agent),\n",
    "and the `learning_curve.png` (learning behavior of the agent throughout the training):\n",
    "\n",
    "<img src=\"./results/learning_curve.png\">"
   ]
  },
  {
   "cell_type": "markdown",
   "metadata": {
    "pycharm": {
     "name": "#%% md\n"
    }
   },
   "source": [
    "### Ideas for Future Work\n",
    "There are lots of extension to this agent!\n",
    "- First would be to try to learn the task from raw pixels using ConvsNet as encoder.\n",
    "\n",
    "- Second would be to assess the affect of using [LayerNorm](https://pytorch.org/docs/stable/generated/torch.nn.LayerNorm.html) and [Weight_Norm](https://pytorch.org/docs/stable/generated/torch.nn.utils.weight_norm.html) in the architecture of the `QNetwork` to see if\n",
    "there are any improvements in terms of robustness (when tried on different seeds) and training speed.\n",
    "\n",
    "- Next would be to add the improvements that have been made upon standard DQN agent; such as  Double DQN, a Dueling DQN,\n",
    "Prioritized Experience Replay and Rainbow!\n"
   ]
  },
  {
   "cell_type": "code",
   "execution_count": 6,
   "metadata": {
    "collapsed": false,
    "jupyter": {
     "outputs_hidden": false
    },
    "pycharm": {
     "name": "#%%\n"
    }
   },
   "outputs": [],
   "source": []
  }
 ],
 "metadata": {
  "kernelspec": {
   "display_name": "Python 3",
   "language": "python",
   "name": "python3"
  },
  "language_info": {
   "codemirror_mode": {
    "name": "ipython",
    "version": 3
   },
   "file_extension": ".py",
   "mimetype": "text/x-python",
   "name": "python",
   "nbconvert_exporter": "python",
   "pygments_lexer": "ipython3",
   "version": "3.6.9"
  }
 },
 "nbformat": 4,
 "nbformat_minor": 4
}