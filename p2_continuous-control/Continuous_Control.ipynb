{
 "cells": [
  {
   "cell_type": "markdown",
   "source": [
    "# Continuous Control\n",
    "\n",
    "---\n",
    "\n",
    "You are welcome to use this coding environment to train your agent for the project.  Follow the instructions below to get started!\n",
    "\n",
    "### 1. Start the Environment\n",
    "\n",
    "Run the next code cell to install a few packages.  This line will take a few minutes to run!"
   ],
   "metadata": {
    "collapsed": false
   }
  },
  {
   "cell_type": "code",
   "execution_count": null,
   "outputs": [],
   "source": [
    "# !pip -q install ./python"
   ],
   "metadata": {
    "collapsed": false,
    "pycharm": {
     "name": "#%%\n"
    }
   }
  },
  {
   "cell_type": "markdown",
   "source": [
    "The environments corresponding to both versions of the environment are already saved in the Workspace and can be accessed at the file paths provided below.\n",
    "\n",
    "Please select one of the two options below for loading the environment."
   ],
   "metadata": {
    "collapsed": false
   }
  },
  {
   "cell_type": "code",
   "execution_count": null,
   "outputs": [],
   "source": [
    "from unityagents import UnityEnvironment\n",
    "import numpy as np\n",
    "\n",
    "# select this option to load version 1 (with a single agent) of the environment\n",
    "env = UnityEnvironment(file_name='../data/Reacher_One_Linux_NoVis/Reacher_One_Linux_NoVis.x86_64')\n",
    "\n",
    "# select this option to load version 2 (with 20 agents) of the environment\n",
    "# env = UnityEnvironment(file_name='data/Reacher_Linux_NoVis/Reacher.x86_64')"
   ],
   "metadata": {
    "collapsed": false,
    "pycharm": {
     "name": "#%%\n"
    }
   }
  },
  {
   "cell_type": "markdown",
   "source": [
    "Environments contain **_brains_** which are responsible for deciding the actions of their associated agents. Here we check for the first brain available, and set it as the default brain we will be controlling from Python."
   ],
   "metadata": {
    "collapsed": false
   }
  },
  {
   "cell_type": "code",
   "execution_count": null,
   "outputs": [],
   "source": [
    "# get the default brain\n",
    "# brain_name = env.brain_names[0]\n",
    "# brain = env.brains[brain_name]"
   ],
   "metadata": {
    "collapsed": false,
    "pycharm": {
     "name": "#%%\n"
    }
   }
  },
  {
   "cell_type": "markdown",
   "source": [
    "### 2. Examine the State and Action Spaces\n",
    "\n",
    "Run the code cell below to print some information about the environment."
   ],
   "metadata": {
    "collapsed": false
   }
  },
  {
   "cell_type": "code",
   "execution_count": null,
   "outputs": [],
   "source": [
    "# reset the environment\n",
    "# env_info = env.reset(train_mode=True)[brain_name]\n",
    "#\n",
    "# # number of agents\n",
    "# num_agents = len(env_info.agents)\n",
    "# print('Number of agents:', num_agents)\n",
    "#\n",
    "# # size of each action\n",
    "# action_size = brain.vector_action_space_size\n",
    "# print('Size of each action:', action_size)\n",
    "#\n",
    "# # examine the state space\n",
    "# states = env_info.vector_observations\n",
    "# state_size = states.shape[1]\n",
    "# print('There are {} agents. Each observes a state with length: {}'.format(states.shape[0], state_size))\n",
    "# print('The state for the first agent looks like:', states[0])"
   ],
   "metadata": {
    "collapsed": false,
    "pycharm": {
     "name": "#%%\n"
    }
   }
  },
  {
   "cell_type": "markdown",
   "source": [
    "### 3. Take Random Actions in the Environment\n",
    "\n",
    "In the next code cell, you will learn how to use the Python API to control the agent and receive feedback from the environment.\n",
    "\n",
    "Note that **in this coding environment, you will not be able to watch the agents while they are training**, and you should set `train_mode=True` to restart the environment."
   ],
   "metadata": {
    "collapsed": false
   }
  },
  {
   "cell_type": "code",
   "execution_count": null,
   "outputs": [],
   "source": [
    "# env_info = env.reset(train_mode=True)[brain_name]      # reset the environment\n",
    "# states = env_info.vector_observations                  # get the current state (for each agent)\n",
    "# scores = np.zeros(num_agents)                          # initialize the score (for each agent)\n",
    "# while True:\n",
    "#     actions = np.random.randn(num_agents, action_size) # select an action (for each agent)\n",
    "#     actions = np.clip(actions, -1, 1)                  # all actions between -1 and 1\n",
    "#     env_info = env.step(actions)[brain_name]           # send all actions to tne environment\n",
    "#     next_states = env_info.vector_observations         # get next state (for each agent)\n",
    "#     rewards = env_info.rewards                         # get reward (for each agent)\n",
    "#     dones = env_info.local_done                        # see if episode finished\n",
    "#     scores += env_info.rewards                         # update the score (for each agent)\n",
    "#     states = next_states                               # roll over states to next time step\n",
    "#     if np.any(dones):                                  # exit loop if episode finished\n",
    "#         break\n",
    "# print('Total score (averaged over agents) this episode: {}'.format(np.mean(scores)))"
   ],
   "metadata": {
    "collapsed": false,
    "pycharm": {
     "name": "#%%\n"
    }
   }
  },
  {
   "cell_type": "markdown",
   "source": [
    "When finished, you can close the environment."
   ],
   "metadata": {
    "collapsed": false
   }
  },
  {
   "cell_type": "code",
   "execution_count": null,
   "outputs": [],
   "source": [
    "# env.close()"
   ],
   "metadata": {
    "collapsed": false,
    "pycharm": {
     "name": "#%%\n"
    }
   }
  },
  {
   "cell_type": "markdown",
   "source": [
    "### 4. It's Your Turn!\n",
    "\n",
    "Now it's your turn to train your own agent to solve the environment!  A few **important notes**:\n",
    "- When training the environment, set `train_mode=True`, so that the line for resetting the environment looks like the following:\n",
    "```python\n",
    "env_info = env.reset(train_mode=True)[brain_name]\n",
    "```\n",
    "- To structure your work, you're welcome to work directly in this Jupyter notebook, or you might like to start over with a new file!  You can see the list of files in the workspace by clicking on **_Jupyter_** in the top left corner of the notebook.\n",
    "- In this coding environment, you will not be able to watch the agents while they are training.  However, **_after training the agents_**, you can download the saved model weights to watch the agents on your own machine!"
   ],
   "metadata": {
    "collapsed": false
   }
  },
  {
   "cell_type": "markdown",
   "source": [
    "# SAC\n"
   ],
   "metadata": {
    "collapsed": false
   }
  },
  {
   "cell_type": "code",
   "execution_count": null,
   "outputs": [],
   "source": [
    "import torch\n",
    "import torch.nn as nn\n",
    "import torch.nn.functional as F\n",
    "import torch.optim as optim\n",
    "from torch.distributions import Normal\n",
    "\n",
    "import numpy as np\n",
    "from itertools import count\n",
    "from collections import deque\n",
    "import matplotlib.pyplot as plt\n",
    "import matplotlib.pylab as pylab\n",
    "\n",
    "import glob\n",
    "import gc\n",
    "import os\n",
    "import os.path\n",
    "import time\n",
    "import tempfile\n",
    "import random\n",
    "from IPython.display import display, HTML\n",
    "\n",
    "LEAVE_PRINT_EVERY_N_SECS = 300\n",
    "ERASE_LINE = '\\x1b[2K'\n",
    "EPS = 1e-6\n",
    "BEEP = lambda: os.system(\"printf '\\a'\")\n",
    "RESULTS_DIR = os.path.join('..', 'p2_continuous-control/results')\n",
    "SEEDS = (1)\n",
    "\n",
    "%matplotlib inline"
   ],
   "metadata": {
    "collapsed": false,
    "pycharm": {
     "name": "#%%\n"
    }
   }
  },
  {
   "cell_type": "markdown",
   "source": [
    "### Q-Function:"
   ],
   "metadata": {
    "collapsed": false
   }
  },
  {
   "cell_type": "code",
   "execution_count": null,
   "outputs": [],
   "source": [
    "class QNet(nn.Module):\n",
    "    def __init__(self,\n",
    "                 input_dim,\n",
    "                 output_dim,\n",
    "                 hidden_dims=(32,32),\n",
    "                 activation_fc=F.relu):\n",
    "        super(QNet, self).__init__()\n",
    "        self.activation_fc = activation_fc\n",
    "\n",
    "        self.input_layer = nn.Linear(input_dim + output_dim, hidden_dims[0])\n",
    "        self.hidden_layers = nn.ModuleList()\n",
    "        for i in range(len(hidden_dims)-1):\n",
    "            hidden_layer = nn.Linear(hidden_dims[i], hidden_dims[i+1])\n",
    "            self.hidden_layers.append(hidden_layer)\n",
    "        self.output_layer = nn.Linear(hidden_dims[-1], 1)\n",
    "\n",
    "        device = \"cpu\"\n",
    "        if torch.cuda.is_available():\n",
    "            device = \"cuda:0\"\n",
    "        self.device = torch.device(device)\n",
    "        self.to(self.device)\n",
    "\n",
    "    def _format(self, state, action):\n",
    "        x, u = state, action\n",
    "        if not isinstance(x, torch.Tensor):\n",
    "            x = torch.tensor(x,\n",
    "                             device=self.device,\n",
    "                             dtype=torch.float32)\n",
    "            x = x.unsqueeze(0)\n",
    "        if not isinstance(u, torch.Tensor):\n",
    "            u = torch.tensor(u,\n",
    "                             device=self.device,\n",
    "                             dtype=torch.float32)\n",
    "            u = u.unsqueeze(0)\n",
    "        return x, u\n",
    "\n",
    "    def forward(self, state, action) -> torch.Tensor:\n",
    "        x, u = self._format(state, action)\n",
    "        x = self.activation_fc(self.input_layer(torch.cat((x, u), dim=1)))\n",
    "        for i, hidden_layer in enumerate(self.hidden_layers):\n",
    "            x = self.activation_fc(hidden_layer(x))\n",
    "        x = self.output_layer(x)\n",
    "        return x\n",
    "\n",
    "    def load(self, experiences):\n",
    "        states, actions, new_states, rewards, is_terminals = experiences\n",
    "        states = torch.from_numpy(states).float().to(self.device)\n",
    "        actions = torch.from_numpy(actions).float().to(self.device)\n",
    "        new_states = torch.from_numpy(new_states).float().to(self.device)\n",
    "        rewards = torch.from_numpy(rewards).float().to(self.device)\n",
    "        is_terminals = torch.from_numpy(is_terminals).float().to(self.device)\n",
    "        return states, actions, new_states, rewards, is_terminals"
   ],
   "metadata": {
    "collapsed": false,
    "pycharm": {
     "name": "#%%\n"
    }
   }
  },
  {
   "cell_type": "markdown",
   "source": [
    "### Policy-Function:"
   ],
   "metadata": {
    "collapsed": false
   }
  },
  {
   "cell_type": "code",
   "execution_count": null,
   "outputs": [],
   "source": [
    "class PolicyNet(nn.Module):\n",
    "    def __init__(self,\n",
    "                 input_dim,\n",
    "                 action_bounds,\n",
    "                 log_std_min=-20,\n",
    "                 log_std_max=2,\n",
    "                 hidden_dims=(32,32),\n",
    "                 activation_fc=F.relu,\n",
    "                 entropy_lr=0.001):\n",
    "        super(PolicyNet, self).__init__()\n",
    "        self.activation_fc = activation_fc\n",
    "        self.env_min, self.env_max = action_bounds\n",
    "\n",
    "        self.log_std_min = log_std_min\n",
    "        self.log_std_max = log_std_max\n",
    "\n",
    "        self.input_layer = nn.Linear(input_dim,\n",
    "                                     hidden_dims[0])\n",
    "\n",
    "        self.hidden_layers = nn.ModuleList()\n",
    "        for i in range(len(hidden_dims)-1):\n",
    "            hidden_layer = nn.Linear(\n",
    "                hidden_dims[i], hidden_dims[i+1])\n",
    "            self.hidden_layers.append(hidden_layer)\n",
    "\n",
    "        self.output_layer_mean = nn.Linear(hidden_dims[-1], len(self.env_max))\n",
    "        self.output_layer_log_std = nn.Linear(hidden_dims[-1], len(self.env_max))\n",
    "\n",
    "        device = \"cpu\"\n",
    "        if torch.cuda.is_available():\n",
    "            device = \"cuda:0\"\n",
    "        self.device = torch.device(device)\n",
    "        self.to(self.device)\n",
    "\n",
    "        self.env_min = torch.tensor(self.env_min,\n",
    "                                    device=self.device,\n",
    "                                    dtype=torch.float32)\n",
    "\n",
    "        self.env_max = torch.tensor(self.env_max,\n",
    "                                    device=self.device,\n",
    "                                    dtype=torch.float32)\n",
    "\n",
    "        self.action_shape = self.env_max.cpu().numpy().shape\n",
    "\n",
    "        self.nn_min = F.tanh(torch.Tensor([float('-inf')])).to(self.device)\n",
    "        self.nn_max = F.tanh(torch.Tensor([float('inf')])).to(self.device)\n",
    "        self.rescale_fn = lambda x: (x - self.nn_min) * (self.env_max - self.env_min) / \\\n",
    "                                    (self.nn_max - self.nn_min) + self.env_min\n",
    "\n",
    "        self.target_entropy = float(-np.prod(self.env_max.shape))\n",
    "        self.logalpha = torch.zeros(1, requires_grad=True, device=self.device)\n",
    "        self.alpha_optimizer = optim.Adam([self.logalpha], lr=entropy_lr)\n",
    "\n",
    "    def _format(self, state):\n",
    "        x = state\n",
    "        if not isinstance(x, torch.Tensor):\n",
    "            x = torch.tensor(x,\n",
    "                             device=self.device,\n",
    "                             dtype=torch.float32)\n",
    "            x = x.unsqueeze(0)\n",
    "        return x\n",
    "\n",
    "    def forward(self, state):\n",
    "        x = self._format(state)\n",
    "        x = self.activation_fc(self.input_layer(x))\n",
    "        for hidden_layer in self.hidden_layers:\n",
    "            x = self.activation_fc(hidden_layer(x))\n",
    "        x_mean = self.output_layer_mean(x)\n",
    "        x_log_std = self.output_layer_log_std(x)\n",
    "        x_log_std = torch.clamp(x_log_std,\n",
    "                                self.log_std_min,\n",
    "                                self.log_std_max)\n",
    "        return x_mean, x_log_std\n",
    "\n",
    "    def full_pass(self, state, epsilon=1e-6):\n",
    "        mean, log_std = self.forward(state)\n",
    "\n",
    "        pi_s = Normal(mean, log_std.exp())\n",
    "        pre_tanh_action = pi_s.rsample()\n",
    "        tanh_action = torch.tanh(pre_tanh_action)\n",
    "        action = self.rescale_fn(tanh_action)\n",
    "\n",
    "        log_prob = pi_s.log_prob(pre_tanh_action) - \\\n",
    "                   torch.log((1 - tanh_action.pow(2)).clamp(0, 1) + epsilon)\n",
    "        log_prob = log_prob.sum(dim=1, keepdim=True)\n",
    "\n",
    "        return action, log_prob, self.rescale_fn(torch.tanh(mean))\n",
    "\n",
    "    def select_random_action(self):\n",
    "        return np.random.uniform(low=self.env_min.cpu().numpy(),\n",
    "                                 high=self.env_max.cpu().numpy()).reshape(self.action_shape)\n",
    "\n",
    "    def select_greedy_action(self, state):\n",
    "        return self.rescale_fn(torch.tanh(self.forward(state)[0])).detach().cpu().numpy().reshape(self.action_shape)\n",
    "\n",
    "    def select_action(self, state):\n",
    "        mean, log_std = self.forward(state)\n",
    "        action = self.rescale_fn(torch.tanh(Normal(mean, log_std.exp()).sample()))\n",
    "        return action.detach().cpu().numpy().reshape(self.action_shape)\n",
    "\n"
   ],
   "metadata": {
    "collapsed": false,
    "pycharm": {
     "name": "#%%\n"
    }
   }
  },
  {
   "cell_type": "markdown",
   "source": [
    "### Replay Buffer:"
   ],
   "metadata": {
    "collapsed": false
   }
  },
  {
   "cell_type": "code",
   "execution_count": null,
   "outputs": [],
   "source": [
    "class ReplayBuffer:\n",
    "    def __init__(self,\n",
    "                 max_size=10000,\n",
    "                 batch_size=64):\n",
    "        self.state_mem = np.empty(shape=(max_size), dtype=np.ndarray)\n",
    "        self.action_mem = np.empty(shape=(max_size), dtype=np.ndarray)\n",
    "        self.reward_mem = np.empty(shape=(max_size), dtype=np.ndarray)\n",
    "        self.next_state_mem = np.empty(shape=(max_size), dtype=np.ndarray)\n",
    "        self.is_done_mem = np.empty(shape=(max_size), dtype=np.ndarray)\n",
    "\n",
    "        self.max_size = max_size\n",
    "        self.batch_size = batch_size\n",
    "        self._idx = 0\n",
    "        self.size = 0\n",
    "\n",
    "    def store(self, sample):\n",
    "        state, action, reward, next_state, is_done = sample\n",
    "        self.state_mem[self._idx] = state\n",
    "        self.action_mem[self._idx] = action\n",
    "        self.reward_mem[self._idx] = reward\n",
    "        self.next_state_mem[self._idx] = next_state\n",
    "        self.is_done_mem[self._idx] = is_done\n",
    "\n",
    "        self._idx += 1\n",
    "        self._idx = self._idx % self.max_size\n",
    "\n",
    "        self.size += 1\n",
    "        self.size = min(self.size, self.max_size)\n",
    "\n",
    "    def sample(self, batch_size=None):\n",
    "        if batch_size == None:\n",
    "            batch_size = self.batch_size\n",
    "\n",
    "        idxs = np.random.choice(\n",
    "            self.size, batch_size, replace=False)\n",
    "        experiences = np.vstack(self.state_mem[idxs]), \\\n",
    "                      np.vstack(self.action_mem[idxs]), \\\n",
    "                      np.vstack(self.reward_mem[idxs]), \\\n",
    "                      np.vstack(self.next_state_mem[idxs]), \\\n",
    "                      np.vstack(self.is_done_mem[idxs])\n",
    "        return experiences\n",
    "\n",
    "    def __len__(self):\n",
    "        return self.size\n"
   ],
   "metadata": {
    "collapsed": false,
    "pycharm": {
     "name": "#%%\n"
    }
   }
  },
  {
   "cell_type": "markdown",
   "source": [
    "### SAC-Algo.:"
   ],
   "metadata": {
    "collapsed": false
   }
  },
  {
   "cell_type": "code",
   "execution_count": null,
   "outputs": [],
   "source": [
    "class SAC():\n",
    "    def __init__(self,\n",
    "                 replay_buffer_fn,\n",
    "                 policy_model_fn,\n",
    "                 policy_max_grad_norm,\n",
    "                 policy_optimizer_fn,\n",
    "                 policy_optimizer_lr,\n",
    "                 value_model_fn,\n",
    "                 value_max_grad_norm,\n",
    "                 value_optimizer_fn,\n",
    "                 value_optimizer_lr,\n",
    "                 n_warmup_batches,\n",
    "                 update_target_every_steps,\n",
    "                 tau,\n",
    "                 root_dir):\n",
    "\n",
    "        self.replay_buffer_fn = replay_buffer_fn\n",
    "\n",
    "        self.policy_model_fn = policy_model_fn\n",
    "        self.policy_max_grad_norm = policy_max_grad_norm\n",
    "        self.policy_optimizer_fn = policy_optimizer_fn\n",
    "        self.policy_optimizer_lr = policy_optimizer_lr\n",
    "\n",
    "        self.value_model_fn = value_model_fn\n",
    "        self.value_max_grad_norm = value_max_grad_norm\n",
    "        self.value_optimizer_fn = value_optimizer_fn\n",
    "        self.value_optimizer_lr = value_optimizer_lr\n",
    "\n",
    "        self.n_warmup_batches = n_warmup_batches\n",
    "        self.update_target_every_steps = update_target_every_steps\n",
    "\n",
    "        self.tau = tau\n",
    "        self.root_dir = root_dir\n",
    "\n",
    "    def optimize_model(self, experiences):\n",
    "        states, actions, rewards, next_states, is_terminals = experiences\n",
    "        batch_size = len(is_terminals)\n",
    "\n",
    "        # policy loss\n",
    "        current_actions, logpi_s, _ = self.policy_model.full_pass(states)\n",
    "\n",
    "        target_alpha = (logpi_s + self.policy_model.target_entropy).detach()\n",
    "        alpha_loss = -(self.policy_model.logalpha * target_alpha).mean()\n",
    "\n",
    "        self.policy_model.alpha_optimizer.zero_grad()\n",
    "        alpha_loss.backward()\n",
    "        self.policy_model.alpha_optimizer.step()\n",
    "        alpha = self.policy_model.logalpha.exp()\n",
    "\n",
    "        current_q_sa_a = self.online_value_model_a(states, current_actions)\n",
    "        current_q_sa_b = self.online_value_model_b(states, current_actions)\n",
    "        current_q_sa = torch.min(current_q_sa_a, current_q_sa_b)\n",
    "        policy_loss = (alpha * logpi_s - current_q_sa).mean()\n",
    "\n",
    "        # Q loss\n",
    "        ap, logpi_sp, _ = self.policy_model.full_pass(next_states)\n",
    "        q_spap_a = self.target_value_model_a(next_states, ap)\n",
    "        q_spap_b = self.target_value_model_b(next_states, ap)\n",
    "        q_spap = torch.min(q_spap_a, q_spap_b) - alpha * logpi_sp\n",
    "        target_q_sa = (rewards + self.gamma * q_spap * (1 - is_terminals)).detach()\n",
    "\n",
    "        q_sa_a = self.online_value_model_a(states, actions)\n",
    "        q_sa_b = self.online_value_model_b(states, actions)\n",
    "        qa_loss = (q_sa_a - target_q_sa).pow(2).mul(0.5).mean()\n",
    "        qb_loss = (q_sa_b - target_q_sa).pow(2).mul(0.5).mean()\n",
    "\n",
    "        self.value_optimizer_a.zero_grad()\n",
    "        qa_loss.backward()\n",
    "        torch.nn.utils.clip_grad_norm_(self.online_value_model_a.parameters(),\n",
    "                                       self.value_max_grad_norm)\n",
    "        self.value_optimizer_a.step()\n",
    "\n",
    "        self.value_optimizer_b.zero_grad()\n",
    "        qb_loss.backward()\n",
    "        torch.nn.utils.clip_grad_norm_(self.online_value_model_b.parameters(),\n",
    "                                       self.value_max_grad_norm)\n",
    "        self.value_optimizer_b.step()\n",
    "\n",
    "        self.policy_optimizer.zero_grad()\n",
    "        policy_loss.backward()\n",
    "        torch.nn.utils.clip_grad_norm_(self.policy_model.parameters(),\n",
    "                                       self.policy_max_grad_norm)\n",
    "        self.policy_optimizer.step()\n",
    "\n",
    "    def interaction_step(self, state, env):\n",
    "        min_samples = self.replay_buffer.batch_size * self.n_warmup_batches\n",
    "        if len(self.replay_buffer) < min_samples:\n",
    "            action = self.policy_model.select_random_action()\n",
    "        else:\n",
    "            action = self.policy_model.select_action(state)\n",
    "\n",
    "        env_info = env.step(action[None, ...])[self.brain_name]\n",
    "        new_state, reward, is_terminal = env_info.vector_observations[0], env_info.rewards[0], env_info.local_done[0]\n",
    "        experience = (state, action, reward, new_state, float(is_terminal))\n",
    "\n",
    "        self.replay_buffer.store(experience)\n",
    "        self.episode_reward[-1] += reward\n",
    "        self.episode_timestep[-1] += 1\n",
    "        return new_state, is_terminal\n",
    "\n",
    "    def update_value_networks(self, tau=None):\n",
    "        tau = self.tau if tau is None else tau\n",
    "\n",
    "        for target, online in zip(self.target_value_model_a.parameters(),\n",
    "                                  self.online_value_model_a.parameters()):\n",
    "            target_ratio = (1.0 - tau) * target.data\n",
    "            online_ratio = tau * online.data\n",
    "            mixed_weights = target_ratio + online_ratio\n",
    "            target.data.copy_(mixed_weights)\n",
    "\n",
    "        for target, online in zip(self.target_value_model_b.parameters(),\n",
    "                                  self.online_value_model_b.parameters()):\n",
    "            target_ratio = (1.0 - tau) * target.data\n",
    "            online_ratio = tau * online.data\n",
    "            mixed_weights = target_ratio + online_ratio\n",
    "            target.data.copy_(mixed_weights)\n",
    "\n",
    "    def train(self, env, seed, gamma,\n",
    "              max_minutes, max_episodes, goal_mean_100_reward):\n",
    "        training_start, last_debug_time = time.time(), float('-inf')\n",
    "\n",
    "        self.checkpoint_dir = tempfile.mkdtemp()\n",
    "        self.seed = seed\n",
    "        self.gamma = gamma\n",
    "\n",
    "        torch.manual_seed(self.seed) ; np.random.seed(self.seed) ; random.seed(self.seed)\n",
    "\n",
    "        self.brain_name = env.brain_names[0]       # get the default brain\n",
    "        self.brain = env.brains[self.brain_name]\n",
    "        env_info = env.reset(train_mode=True)[self.brain_name]\n",
    "        nS, nA = env_info.vector_observations.shape[1], self.brain.vector_action_space_size\n",
    "        action_bounds = [-1 for _ in range(nA)], [1 for _ in range(nA)]\n",
    "\n",
    "        self.episode_timestep = []\n",
    "        self.episode_reward = []\n",
    "        self.episode_seconds = []\n",
    "        self.evaluation_scores = []\n",
    "        self.episode_exploration = []\n",
    "\n",
    "        self.target_value_model_a = self.value_model_fn(nS, nA)\n",
    "        self.online_value_model_a = self.value_model_fn(nS, nA)\n",
    "\n",
    "        self.target_value_model_b = self.value_model_fn(nS, nA)\n",
    "        self.online_value_model_b = self.value_model_fn(nS, nA)\n",
    "\n",
    "        self.update_value_networks()\n",
    "\n",
    "        self.policy_model = self.policy_model_fn(nS, action_bounds)\n",
    "\n",
    "        self.value_optimizer_a = self.value_optimizer_fn(self.online_value_model_a,\n",
    "                                                         self.value_optimizer_lr)\n",
    "        self.value_optimizer_b = self.value_optimizer_fn(self.online_value_model_b,\n",
    "                                                         self.value_optimizer_lr)\n",
    "        self.policy_optimizer = self.policy_optimizer_fn(self.policy_model,\n",
    "                                                         self.policy_optimizer_lr)\n",
    "\n",
    "        self.replay_buffer = self.replay_buffer_fn()\n",
    "\n",
    "        result = np.empty((max_episodes, 6))\n",
    "        result[:] = np.nan\n",
    "        training_time = 0\n",
    "        for episode in range(1, max_episodes + 1):\n",
    "            episode_start = time.time()\n",
    "\n",
    "            env_info = env.reset(train_mode=True)[self.brain_name]\n",
    "            state, is_terminal = env_info.vector_observations[0], False\n",
    "\n",
    "            self.episode_reward.append(0.0)\n",
    "            self.episode_timestep.append(0.0)\n",
    "\n",
    "            for _ in count():\n",
    "                state, is_terminal = self.interaction_step(state, env)\n",
    "\n",
    "                min_samples = self.replay_buffer.batch_size * self.n_warmup_batches\n",
    "                if len(self.replay_buffer) > min_samples:\n",
    "                    experiences = self.replay_buffer.sample()\n",
    "                    experiences = self.online_value_model_a.load(experiences)\n",
    "                    self.optimize_model(experiences)\n",
    "\n",
    "                if np.sum(self.episode_timestep) % self.update_target_every_steps == 0:\n",
    "                    self.update_value_networks()\n",
    "\n",
    "                if is_terminal:\n",
    "                    gc.collect()\n",
    "                    break\n",
    "\n",
    "            # stats\n",
    "            episode_elapsed = time.time() - episode_start\n",
    "            self.episode_seconds.append(episode_elapsed)\n",
    "            training_time += episode_elapsed\n",
    "            evaluation_score, _ = self.evaluate(self.policy_model, env)\n",
    "            self.save_checkpoint(episode-1, self.policy_model)\n",
    "\n",
    "            total_step = int(np.sum(self.episode_timestep))\n",
    "            self.evaluation_scores.append(evaluation_score)\n",
    "\n",
    "            mean_10_reward = np.mean(self.episode_reward[-10:])\n",
    "            std_10_reward = np.std(self.episode_reward[-10:])\n",
    "            mean_100_reward = np.mean(self.episode_reward[-100:])\n",
    "            std_100_reward = np.std(self.episode_reward[-100:])\n",
    "            mean_100_eval_score = np.mean(self.evaluation_scores[-100:])\n",
    "            std_100_eval_score = np.std(self.evaluation_scores[-100:])\n",
    "\n",
    "            wallclock_elapsed = time.time() - training_start\n",
    "            result[episode-1] = total_step, self.episode_reward[episode-1], mean_100_reward, \\\n",
    "                mean_100_eval_score, training_time, wallclock_elapsed\n",
    "\n",
    "            reached_debug_time = time.time() - last_debug_time >= LEAVE_PRINT_EVERY_N_SECS\n",
    "            reached_max_minutes = wallclock_elapsed >= max_minutes * 60\n",
    "            reached_max_episodes = episode >= max_episodes\n",
    "            reached_goal_mean_reward = mean_100_reward >= goal_mean_100_reward\n",
    "            training_is_over = reached_max_minutes or \\\n",
    "                               reached_max_episodes or \\\n",
    "                               reached_goal_mean_reward\n",
    "            elapsed_str = time.strftime(\"%H:%M:%S\", time.gmtime(time.time() - training_start))\n",
    "            debug_message = 'elapsed {}, episode {:04}, steps {:07}, '\n",
    "            debug_message += 'ave_r 10 {:05.1f}\\u00B1{:05.1f}, '\n",
    "            debug_message += 'ave_r 100 {:05.1f}\\u00B1{:05.1f}, '\n",
    "            debug_message += 'ave_eval 100 {:05.1f}\\u00B1{:05.1f}'\n",
    "            debug_message = debug_message.format(\n",
    "                elapsed_str, episode-1, total_step, mean_10_reward, std_10_reward,\n",
    "                mean_100_reward, std_100_reward, mean_100_eval_score, std_100_eval_score)\n",
    "            print(debug_message, end='\\r', flush=True)\n",
    "            if reached_debug_time or training_is_over:\n",
    "                print(ERASE_LINE + debug_message, flush=True)\n",
    "                last_debug_time = time.time()\n",
    "            if training_is_over:\n",
    "                if reached_max_minutes: print(u'--> reached_max_minutes \\u2715')\n",
    "                if reached_max_episodes: print(u'--> reached_max_episodes \\u2715')\n",
    "                if reached_goal_mean_reward: print(u'--> reached_goal_mean_reward of +30 over last 100 episodes \\u2713')\n",
    "                break\n",
    "\n",
    "        final_eval_score, score_std = self.evaluate(self.policy_model, env, n_episodes=100)\n",
    "        wallclock_time = time.time() - training_start\n",
    "        print('Training complete.')\n",
    "        print('Final evaluation score {:.2f}\\u00B1{:.2f} in {:.2f}s training time,'\n",
    "              ' {:.2f}s wall-clock time.\\n'.format(\n",
    "                  final_eval_score, score_std, training_time, wallclock_time))\n",
    "\n",
    "        self.save_checkpoint('final', self.policy_model)\n",
    "        return result, final_eval_score, training_time, wallclock_time\n",
    "\n",
    "    def evaluate(self, eval_policy_model, eval_env, n_episodes=1):\n",
    "        rs = []\n",
    "        for _ in range(n_episodes):\n",
    "            env_info = eval_env.reset(train_mode=True)[self.brain_name]\n",
    "            s, d = env_info.vector_observations[0], False\n",
    "            rs.append(0)\n",
    "            for _ in count():\n",
    "                a = eval_policy_model.select_greedy_action(s)\n",
    "                env_info = eval_env.step(a[None, ...])[self.brain_name]\n",
    "                s, r, d = env_info.vector_observations[0], env_info.rewards[0], env_info.local_done[0]\n",
    "                rs[-1] += r\n",
    "                if d: break\n",
    "        return np.mean(rs), np.std(rs)\n",
    "\n",
    "    def save_checkpoint(self, episode_idx, model):\n",
    "        torch.save(model.state_dict(),\n",
    "                   os.path.join(self.root_dir if episode_idx == 'final' else self.checkpoint_dir,\n",
    "                                'model_{}.pth'.format(episode_idx)))"
   ],
   "metadata": {
    "collapsed": false,
    "pycharm": {
     "name": "#%%\n"
    }
   }
  },
  {
   "cell_type": "markdown",
   "source": [
    "### Learning with SAC:"
   ],
   "metadata": {
    "collapsed": false
   }
  },
  {
   "cell_type": "code",
   "execution_count": null,
   "outputs": [],
   "source": [
    "SEEDS = [1]\n",
    "sac_results = []\n",
    "best_agent, best_eval_score = None, float('-inf')\n",
    "sac_root_dir = os.path.join(RESULTS_DIR, 'sac')\n",
    "not os.path.exists(sac_root_dir) and os.makedirs(sac_root_dir)\n",
    "\n",
    "for seed in SEEDS:\n",
    "    env_settings = {\n",
    "        'env_name': 'data/Reacher_One_Linux_NoVis/Reacher_One_Linux_NoVis.x86_64',\n",
    "        'gamma': 0.99,\n",
    "        'max_minutes': 300,\n",
    "        'max_episodes': 10000,\n",
    "        'goal_mean_100_reward': 30\n",
    "    }\n",
    "\n",
    "    policy_model_fn = lambda nS, bounds: PolicyNet(nS, bounds, hidden_dims=(64,64))\n",
    "    policy_max_grad_norm = float('inf')\n",
    "    policy_optimizer_fn = lambda net, lr: optim.Adam(net.parameters(), lr=lr)\n",
    "    policy_optimizer_lr = 0.0005\n",
    "\n",
    "    value_model_fn = lambda nS, nA: QNet(nS, nA, hidden_dims=(128,128))\n",
    "    value_max_grad_norm = float('inf')\n",
    "    value_optimizer_fn = lambda net, lr: optim.Adam(net.parameters(), lr=lr)\n",
    "    value_optimizer_lr = 0.0007\n",
    "\n",
    "    replay_buffer_fn = lambda: ReplayBuffer(max_size=1000000, batch_size=256)\n",
    "    n_warmup_batches = 10\n",
    "    update_target_every_steps = 1\n",
    "    tau = 0.005\n",
    "\n",
    "    env_name, gamma, max_minutes, max_episodes, goal_mean_100_reward = env_settings.values()\n",
    "    env = UnityEnvironment(file_name=env_name)\n",
    "\n",
    "    agent = SAC(replay_buffer_fn,\n",
    "                policy_model_fn,\n",
    "                policy_max_grad_norm,\n",
    "                policy_optimizer_fn,\n",
    "                policy_optimizer_lr,\n",
    "                value_model_fn,\n",
    "                value_max_grad_norm,\n",
    "                value_optimizer_fn,\n",
    "                value_optimizer_lr,\n",
    "                n_warmup_batches,\n",
    "                update_target_every_steps,\n",
    "                tau,\n",
    "                sac_root_dir)\n",
    "\n",
    "    result, final_eval_score, training_time, wallclock_time = agent.train(env,\n",
    "                                                                          seed,\n",
    "                                                                          gamma,\n",
    "                                                                          max_minutes,\n",
    "                                                                          max_episodes,\n",
    "                                                                          goal_mean_100_reward)\n",
    "    sac_results.append(result)\n",
    "    if final_eval_score > best_eval_score:\n",
    "        best_eval_score = final_eval_score\n",
    "        best_agent = agent\n",
    "\n",
    "sac_results = np.array(sac_results)"
   ],
   "metadata": {
    "collapsed": false,
    "pycharm": {
     "name": "#%%\n"
    }
   }
  },
  {
   "cell_type": "code",
   "execution_count": null,
   "outputs": [],
   "source": [
    "sac_max_total_steps, sac_max_episode_reward, sac_max_100_reward, sac_max_100_score, \\\n",
    "sac_max_train_time, sac_max_wall_time = np.max(sac_results, axis=0).T\n",
    "\n",
    "sac_min_total_steps, sac_min_episode_reward, sac_min_100_reward, sac_min_100_score, \\\n",
    "sac_min_train_time, sac_min_wall_time = np.min(sac_results, axis=0).T\n",
    "\n",
    "sac_mean_total_steps, sac_mean_episode_reward, sac_mean_100_reward, sac_mean_100_score, \\\n",
    "sac_mean_train_time, sac_mean_wall_time = np.mean(sac_results, axis=0).T\n",
    "\n",
    "sac_x = np.arange(len(sac_mean_100_score))"
   ],
   "metadata": {
    "collapsed": false,
    "pycharm": {
     "name": "#%%\n"
    }
   }
  },
  {
   "cell_type": "code",
   "execution_count": null,
   "outputs": [],
   "source": [
    "fig, axs = plt.subplots(2, 1, figsize=(15,10), sharey=False, sharex=True)\n",
    "\n",
    "# SAC\n",
    "axs[0].plot(sac_max_100_reward, 'g', linewidth=1)\n",
    "axs[0].plot(sac_min_100_reward, 'g', linewidth=1)\n",
    "axs[0].plot(sac_mean_100_reward, 'g:', label='SAC', linewidth=2)\n",
    "axs[0].fill_between(\n",
    "    sac_x, sac_min_100_reward, sac_max_100_reward, facecolor='g', alpha=0.3)\n",
    "\n",
    "axs[1].plot(sac_max_episode_reward, 'g', linewidth=1)\n",
    "axs[1].plot(sac_min_episode_reward, 'g', linewidth=1)\n",
    "axs[1].plot(sac_mean_episode_reward, 'g:', label='SAC', linewidth=2)\n",
    "axs[1].fill_between(\n",
    "    sac_x, sac_min_episode_reward, sac_max_episode_reward, facecolor='g', alpha=0.3)\n",
    "\n",
    "# ALL\n",
    "axs[0].set_title('Moving Avg. Last_100_Episode_Reward (Training)')\n",
    "axs[1].set_title('Mean Episode Rewards (Training)')\n",
    "plt.xlabel('Episodes')\n",
    "axs[0].legend(loc='upper left')\n",
    "plt.savefig(\"\")\n",
    "plt.show()"
   ],
   "metadata": {
    "collapsed": false,
    "pycharm": {
     "name": "#%%\n"
    }
   }
  },
  {
   "cell_type": "code",
   "execution_count": null,
   "outputs": [],
   "source": [
    "fig, axs = plt.subplots(3, 1, figsize=(15,15), sharey=False, sharex=True)\n",
    "\n",
    "# SAC\n",
    "axs[0].plot(sac_max_total_steps, 'g', linewidth=1)\n",
    "axs[0].plot(sac_min_total_steps, 'g', linewidth=1)\n",
    "axs[0].plot(sac_mean_total_steps, 'g:', label='SAC', linewidth=2)\n",
    "axs[0].fill_between(\n",
    "    sac_x, sac_min_total_steps, sac_max_total_steps, facecolor='g', alpha=0.3)\n",
    "\n",
    "axs[1].plot(sac_max_train_time, 'g', linewidth=1)\n",
    "axs[1].plot(sac_min_train_time, 'g', linewidth=1)\n",
    "axs[1].plot(sac_mean_train_time, 'g:', label='SAC', linewidth=2)\n",
    "axs[1].fill_between(\n",
    "    sac_x, sac_min_train_time, sac_max_train_time, facecolor='g', alpha=0.3)\n",
    "\n",
    "axs[2].plot(sac_max_wall_time, 'g', linewidth=1)\n",
    "axs[2].plot(sac_min_wall_time, 'g', linewidth=1)\n",
    "axs[2].plot(sac_mean_wall_time, 'g:', label='SAC', linewidth=2)\n",
    "axs[2].fill_between(\n",
    "    sac_x, sac_min_wall_time, sac_max_wall_time, facecolor='g', alpha=0.3)\n",
    "\n",
    "# ALL\n",
    "axs[0].set_title('Total Steps')\n",
    "axs[1].set_title('Training Time')\n",
    "axs[2].set_title('Wall-clock Time')\n",
    "plt.xlabel('Episodes')\n",
    "axs[0].legend(loc='upper left')\n",
    "plt.show()"
   ],
   "metadata": {
    "collapsed": false,
    "pycharm": {
     "name": "#%%\n"
    }
   }
  },
  {
   "cell_type": "code",
   "execution_count": null,
   "outputs": [],
   "source": [
    "sac_stats_dict = {\n",
    "    'x': sac_x,\n",
    "\n",
    "    'max_100_reward': sac_max_100_reward,\n",
    "    'min_100_reward': sac_min_100_reward,\n",
    "    'mean_100_reward': sac_mean_100_reward,\n",
    "\n",
    "    'max_100_score': sac_max_100_score,\n",
    "    'min_100_score': sac_min_100_score,\n",
    "    'mean_100_score': sac_mean_100_score,\n",
    "\n",
    "    'max_total_steps': sac_max_total_steps,\n",
    "    'min_total_steps': sac_min_total_steps,\n",
    "    'mean_total_steps': sac_mean_total_steps,\n",
    "\n",
    "    'max_train_time': sac_max_train_time,\n",
    "    'min_train_time': sac_min_train_time,\n",
    "    'mean_train_time': sac_mean_train_time,\n",
    "\n",
    "    'max_wall_time': sac_max_wall_time,\n",
    "    'min_wall_time': sac_min_wall_time,\n",
    "    'mean_wall_time': sac_mean_wall_time\n",
    "}\n",
    "\n",
    "torch.save(sac_stats_dict, os.path.join(sac_root_dir, 'stats_dict.pth'))"
   ],
   "metadata": {
    "collapsed": false,
    "pycharm": {
     "name": "#%%\n"
    }
   }
  },
  {
   "cell_type": "code",
   "execution_count": null,
   "outputs": [],
   "source": [],
   "metadata": {
    "collapsed": false,
    "pycharm": {
     "name": "#%%\n"
    }
   }
  }
 ],
 "metadata": {
  "kernelspec": {
   "display_name": "Python 3",
   "language": "python",
   "name": "python3"
  },
  "language_info": {
   "codemirror_mode": {
    "name": "ipython",
    "version": 2
   },
   "file_extension": ".py",
   "mimetype": "text/x-python",
   "name": "python",
   "nbconvert_exporter": "python",
   "pygments_lexer": "ipython2",
   "version": "2.7.6"
  }
 },
 "nbformat": 4,
 "nbformat_minor": 0
}